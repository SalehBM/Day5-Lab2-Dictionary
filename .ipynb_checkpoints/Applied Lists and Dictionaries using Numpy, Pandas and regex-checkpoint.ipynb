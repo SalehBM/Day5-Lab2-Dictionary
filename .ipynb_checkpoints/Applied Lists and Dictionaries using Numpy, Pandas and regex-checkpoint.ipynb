{
 "cells": [
  {
   "cell_type": "markdown",
   "id": "482144af",
   "metadata": {},
   "source": [
    "# Lists"
   ]
  },
  {
   "cell_type": "code",
   "execution_count": 1,
   "id": "ed3bba85",
   "metadata": {},
   "outputs": [],
   "source": [
    "import numpy as np\n",
    "import pandas as pd\n",
    "import re"
   ]
  },
  {
   "cell_type": "code",
   "execution_count": 2,
   "id": "b9d634eb",
   "metadata": {},
   "outputs": [],
   "source": [
    "x = np.arange(1200, 2001)"
   ]
  },
  {
   "cell_type": "markdown",
   "id": "76693327",
   "metadata": {},
   "source": [
    "### Q1:"
   ]
  },
  {
   "cell_type": "code",
   "execution_count": 3,
   "id": "9f751f6a",
   "metadata": {},
   "outputs": [
    {
     "data": {
      "text/plain": [
       "1281600"
      ]
     },
     "execution_count": 3,
     "metadata": {},
     "output_type": "execute_result"
    }
   ],
   "source": [
    "np.sum(x)"
   ]
  },
  {
   "cell_type": "markdown",
   "id": "7a754ce2",
   "metadata": {},
   "source": [
    "### Q2:"
   ]
  },
  {
   "cell_type": "code",
   "execution_count": 4,
   "id": "693d1d41",
   "metadata": {},
   "outputs": [
    {
     "data": {
      "text/plain": [
       "2000"
      ]
     },
     "execution_count": 4,
     "metadata": {},
     "output_type": "execute_result"
    }
   ],
   "source": [
    "np.max(x)"
   ]
  },
  {
   "cell_type": "markdown",
   "id": "e9d85154",
   "metadata": {},
   "source": [
    "### Q3:"
   ]
  },
  {
   "cell_type": "code",
   "execution_count": 5,
   "id": "18fc0dc4",
   "metadata": {},
   "outputs": [
    {
     "data": {
      "text/plain": [
       "array([1200, 1202, 1204, 1206, 1208, 1210, 1212, 1214, 1216, 1218, 1220,\n",
       "       1222, 1224, 1226, 1228, 1230, 1232, 1234, 1236, 1238, 1240, 1242,\n",
       "       1244, 1246, 1248, 1250, 1252, 1254, 1256, 1258, 1260, 1262, 1264,\n",
       "       1266, 1268, 1270, 1272, 1274, 1276, 1278, 1280, 1282, 1284, 1286,\n",
       "       1288, 1290, 1292, 1294, 1296, 1298, 1300, 1302, 1304, 1306, 1308,\n",
       "       1310, 1312, 1314, 1316, 1318, 1320, 1322, 1324, 1326, 1328, 1330,\n",
       "       1332, 1334, 1336, 1338, 1340, 1342, 1344, 1346, 1348, 1350, 1352,\n",
       "       1354, 1356, 1358, 1360, 1362, 1364, 1366, 1368, 1370, 1372, 1374,\n",
       "       1376, 1378, 1380, 1382, 1384, 1386, 1388, 1390, 1392, 1394, 1396,\n",
       "       1398, 1400, 1402, 1404, 1406, 1408, 1410, 1412, 1414, 1416, 1418,\n",
       "       1420, 1422, 1424, 1426, 1428, 1430, 1432, 1434, 1436, 1438, 1440,\n",
       "       1442, 1444, 1446, 1448, 1450, 1452, 1454, 1456, 1458, 1460, 1462,\n",
       "       1464, 1466, 1468, 1470, 1472, 1474, 1476, 1478, 1480, 1482, 1484,\n",
       "       1486, 1488, 1490, 1492, 1494, 1496, 1498, 1500, 1502, 1504, 1506,\n",
       "       1508, 1510, 1512, 1514, 1516, 1518, 1520, 1522, 1524, 1526, 1528,\n",
       "       1530, 1532, 1534, 1536, 1538, 1540, 1542, 1544, 1546, 1548, 1550,\n",
       "       1552, 1554, 1556, 1558, 1560, 1562, 1564, 1566, 1568, 1570, 1572,\n",
       "       1574, 1576, 1578, 1580, 1582, 1584, 1586, 1588, 1590, 1592, 1594,\n",
       "       1596, 1598, 1600, 1602, 1604, 1606, 1608, 1610, 1612, 1614, 1616,\n",
       "       1618, 1620, 1622, 1624, 1626, 1628, 1630, 1632, 1634, 1636, 1638,\n",
       "       1640, 1642, 1644, 1646, 1648, 1650, 1652, 1654, 1656, 1658, 1660,\n",
       "       1662, 1664, 1666, 1668, 1670, 1672, 1674, 1676, 1678, 1680, 1682,\n",
       "       1684, 1686, 1688, 1690, 1692, 1694, 1696, 1698, 1700, 1702, 1704,\n",
       "       1706, 1708, 1710, 1712, 1714, 1716, 1718, 1720, 1722, 1724, 1726,\n",
       "       1728, 1730, 1732, 1734, 1736, 1738, 1740, 1742, 1744, 1746, 1748,\n",
       "       1750, 1752, 1754, 1756, 1758, 1760, 1762, 1764, 1766, 1768, 1770,\n",
       "       1772, 1774, 1776, 1778, 1780, 1782, 1784, 1786, 1788, 1790, 1792,\n",
       "       1794, 1796, 1798, 1800, 1802, 1804, 1806, 1808, 1810, 1812, 1814,\n",
       "       1816, 1818, 1820, 1822, 1824, 1826, 1828, 1830, 1832, 1834, 1836,\n",
       "       1838, 1840, 1842, 1844, 1846, 1848, 1850, 1852, 1854, 1856, 1858,\n",
       "       1860, 1862, 1864, 1866, 1868, 1870, 1872, 1874, 1876, 1878, 1880,\n",
       "       1882, 1884, 1886, 1888, 1890, 1892, 1894, 1896, 1898, 1900, 1902,\n",
       "       1904, 1906, 1908, 1910, 1912, 1914, 1916, 1918, 1920, 1922, 1924,\n",
       "       1926, 1928, 1930, 1932, 1934, 1936, 1938, 1940, 1942, 1944, 1946,\n",
       "       1948, 1950, 1952, 1954, 1956, 1958, 1960, 1962, 1964, 1966, 1968,\n",
       "       1970, 1972, 1974, 1976, 1978, 1980, 1982, 1984, 1986, 1988, 1990,\n",
       "       1992, 1994, 1996, 1998, 2000])"
      ]
     },
     "execution_count": 5,
     "metadata": {},
     "output_type": "execute_result"
    }
   ],
   "source": [
    "x[x % 2 == 0]"
   ]
  },
  {
   "cell_type": "markdown",
   "id": "1d639ca0",
   "metadata": {},
   "source": [
    "### Q4:"
   ]
  },
  {
   "cell_type": "code",
   "execution_count": 6,
   "id": "4be315d8",
   "metadata": {},
   "outputs": [
    {
     "data": {
      "text/plain": [
       "array([1200, 1201, 1202, 1203, 1204])"
      ]
     },
     "execution_count": 6,
     "metadata": {},
     "output_type": "execute_result"
    }
   ],
   "source": [
    "x[:5]"
   ]
  },
  {
   "cell_type": "markdown",
   "id": "f82cdbc0",
   "metadata": {},
   "source": [
    "# Dictionaries"
   ]
  },
  {
   "cell_type": "code",
   "execution_count": 7,
   "id": "aa72e8ea",
   "metadata": {},
   "outputs": [],
   "source": [
    "df = pd.DataFrame(data = { \"Name\": [\"Amal\", \"Mohammed\", \"Khadijah\", \"Abdullah\", \"Rawan\", \"Faisal\", \"Layla\", \"Saleh\"],\n",
    "                         \"Number\": [\"+966 54 151 1811\", \"055 151 1231\", \"+966 55 151 1221\", \"055 151 1121\", \"055 151 1200\", \"055 151 1299\", \"055 151 1288\", \"+966 55 982 3892\"]})"
   ]
  },
  {
   "cell_type": "code",
   "execution_count": 8,
   "id": "8f41aea9",
   "metadata": {},
   "outputs": [
    {
     "data": {
      "text/html": [
       "<div>\n",
       "<style scoped>\n",
       "    .dataframe tbody tr th:only-of-type {\n",
       "        vertical-align: middle;\n",
       "    }\n",
       "\n",
       "    .dataframe tbody tr th {\n",
       "        vertical-align: top;\n",
       "    }\n",
       "\n",
       "    .dataframe thead th {\n",
       "        text-align: right;\n",
       "    }\n",
       "</style>\n",
       "<table border=\"1\" class=\"dataframe\">\n",
       "  <thead>\n",
       "    <tr style=\"text-align: right;\">\n",
       "      <th></th>\n",
       "      <th>Name</th>\n",
       "      <th>Number</th>\n",
       "    </tr>\n",
       "  </thead>\n",
       "  <tbody>\n",
       "    <tr>\n",
       "      <th>0</th>\n",
       "      <td>Amal</td>\n",
       "      <td>+966 54 151 1811</td>\n",
       "    </tr>\n",
       "    <tr>\n",
       "      <th>1</th>\n",
       "      <td>Mohammed</td>\n",
       "      <td>055 151 1231</td>\n",
       "    </tr>\n",
       "    <tr>\n",
       "      <th>2</th>\n",
       "      <td>Khadijah</td>\n",
       "      <td>+966 55 151 1221</td>\n",
       "    </tr>\n",
       "    <tr>\n",
       "      <th>3</th>\n",
       "      <td>Abdullah</td>\n",
       "      <td>055 151 1121</td>\n",
       "    </tr>\n",
       "    <tr>\n",
       "      <th>4</th>\n",
       "      <td>Rawan</td>\n",
       "      <td>055 151 1200</td>\n",
       "    </tr>\n",
       "    <tr>\n",
       "      <th>5</th>\n",
       "      <td>Faisal</td>\n",
       "      <td>055 151 1299</td>\n",
       "    </tr>\n",
       "    <tr>\n",
       "      <th>6</th>\n",
       "      <td>Layla</td>\n",
       "      <td>055 151 1288</td>\n",
       "    </tr>\n",
       "    <tr>\n",
       "      <th>7</th>\n",
       "      <td>Saleh</td>\n",
       "      <td>+966 55 982 3892</td>\n",
       "    </tr>\n",
       "  </tbody>\n",
       "</table>\n",
       "</div>"
      ],
      "text/plain": [
       "       Name            Number\n",
       "0      Amal  +966 54 151 1811\n",
       "1  Mohammed      055 151 1231\n",
       "2  Khadijah  +966 55 151 1221\n",
       "3  Abdullah      055 151 1121\n",
       "4     Rawan      055 151 1200\n",
       "5    Faisal      055 151 1299\n",
       "6     Layla      055 151 1288\n",
       "7     Saleh  +966 55 982 3892"
      ]
     },
     "execution_count": 8,
     "metadata": {},
     "output_type": "execute_result"
    }
   ],
   "source": [
    "df"
   ]
  },
  {
   "cell_type": "code",
   "execution_count": 9,
   "id": "dbdc4266",
   "metadata": {},
   "outputs": [],
   "source": [
    "def country_key(num):\n",
    "    if num.startswith('+966'):\n",
    "        return \"+966\"\n",
    "    else:\n",
    "        return np.NaN\n",
    "    \n",
    "df[\"CountryKey\"] = df[\"Number\"].apply(country_key)\n",
    "df[\"Number\"].replace([\"\\+966\", \"0(?=5)\", \"\\s\"], \"\", regex = True, inplace = True)"
   ]
  },
  {
   "cell_type": "code",
   "execution_count": 10,
   "id": "f94119bb",
   "metadata": {},
   "outputs": [
    {
     "data": {
      "text/html": [
       "<div>\n",
       "<style scoped>\n",
       "    .dataframe tbody tr th:only-of-type {\n",
       "        vertical-align: middle;\n",
       "    }\n",
       "\n",
       "    .dataframe tbody tr th {\n",
       "        vertical-align: top;\n",
       "    }\n",
       "\n",
       "    .dataframe thead th {\n",
       "        text-align: right;\n",
       "    }\n",
       "</style>\n",
       "<table border=\"1\" class=\"dataframe\">\n",
       "  <thead>\n",
       "    <tr style=\"text-align: right;\">\n",
       "      <th></th>\n",
       "      <th>Name</th>\n",
       "      <th>Number</th>\n",
       "      <th>CountryKey</th>\n",
       "    </tr>\n",
       "  </thead>\n",
       "  <tbody>\n",
       "    <tr>\n",
       "      <th>0</th>\n",
       "      <td>Amal</td>\n",
       "      <td>541511811</td>\n",
       "      <td>+966</td>\n",
       "    </tr>\n",
       "    <tr>\n",
       "      <th>1</th>\n",
       "      <td>Mohammed</td>\n",
       "      <td>551511231</td>\n",
       "      <td>NaN</td>\n",
       "    </tr>\n",
       "    <tr>\n",
       "      <th>2</th>\n",
       "      <td>Khadijah</td>\n",
       "      <td>551511221</td>\n",
       "      <td>+966</td>\n",
       "    </tr>\n",
       "    <tr>\n",
       "      <th>3</th>\n",
       "      <td>Abdullah</td>\n",
       "      <td>551511121</td>\n",
       "      <td>NaN</td>\n",
       "    </tr>\n",
       "    <tr>\n",
       "      <th>4</th>\n",
       "      <td>Rawan</td>\n",
       "      <td>551511200</td>\n",
       "      <td>NaN</td>\n",
       "    </tr>\n",
       "    <tr>\n",
       "      <th>5</th>\n",
       "      <td>Faisal</td>\n",
       "      <td>551511299</td>\n",
       "      <td>NaN</td>\n",
       "    </tr>\n",
       "    <tr>\n",
       "      <th>6</th>\n",
       "      <td>Layla</td>\n",
       "      <td>551511288</td>\n",
       "      <td>NaN</td>\n",
       "    </tr>\n",
       "    <tr>\n",
       "      <th>7</th>\n",
       "      <td>Saleh</td>\n",
       "      <td>559823892</td>\n",
       "      <td>+966</td>\n",
       "    </tr>\n",
       "  </tbody>\n",
       "</table>\n",
       "</div>"
      ],
      "text/plain": [
       "       Name     Number CountryKey\n",
       "0      Amal  541511811       +966\n",
       "1  Mohammed  551511231        NaN\n",
       "2  Khadijah  551511221       +966\n",
       "3  Abdullah  551511121        NaN\n",
       "4     Rawan  551511200        NaN\n",
       "5    Faisal  551511299        NaN\n",
       "6     Layla  551511288        NaN\n",
       "7     Saleh  559823892       +966"
      ]
     },
     "execution_count": 10,
     "metadata": {},
     "output_type": "execute_result"
    }
   ],
   "source": [
    "df"
   ]
  },
  {
   "cell_type": "code",
   "execution_count": 11,
   "id": "4f45e181",
   "metadata": {},
   "outputs": [
    {
     "data": {
      "text/plain": [
       "'559823892'"
      ]
     },
     "execution_count": 11,
     "metadata": {},
     "output_type": "execute_result"
    }
   ],
   "source": [
    "number = \"559823892\"    \n",
    "number = re.sub(r\"\\+\\d{3}|0(?=5)\", \"\", number)\n",
    "number"
   ]
  },
  {
   "cell_type": "code",
   "execution_count": 12,
   "id": "dbd71337",
   "metadata": {},
   "outputs": [
    {
     "data": {
      "text/plain": [
       "'Saleh'"
      ]
     },
     "execution_count": 12,
     "metadata": {},
     "output_type": "execute_result"
    }
   ],
   "source": [
    "def findNum(num):\n",
    "    return df.loc[(df[\"Number\"] == num)]\n",
    "        \n",
    "findNum(number)[\"Name\"].to_string(index = False)"
   ]
  },
  {
   "cell_type": "code",
   "execution_count": null,
   "id": "db0f25df",
   "metadata": {},
   "outputs": [],
   "source": []
  }
 ],
 "metadata": {
  "kernelspec": {
   "display_name": "Python 3 (ipykernel)",
   "language": "python",
   "name": "python3"
  },
  "language_info": {
   "codemirror_mode": {
    "name": "ipython",
    "version": 3
   },
   "file_extension": ".py",
   "mimetype": "text/x-python",
   "name": "python",
   "nbconvert_exporter": "python",
   "pygments_lexer": "ipython3",
   "version": "3.10.4"
  }
 },
 "nbformat": 4,
 "nbformat_minor": 5
}
